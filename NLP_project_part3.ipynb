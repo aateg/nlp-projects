{
  "nbformat": 4,
  "nbformat_minor": 0,
  "metadata": {
    "colab": {
      "name": "NLP-project-part3",
      "provenance": []
    },
    "kernelspec": {
      "name": "python3",
      "display_name": "Python 3"
    }
  },
  "cells": [
    {
      "cell_type": "markdown",
      "metadata": {
        "id": "TSzXyIIrIMgs",
        "colab_type": "text"
      },
      "source": [
        "# Natural Language Processing - Part 3"
      ]
    },
    {
      "cell_type": "code",
      "metadata": {
        "id": "DCoOLo9hICXF",
        "colab_type": "code",
        "colab": {}
      },
      "source": [
        "import pandas as pd\n",
        "import spacy\n",
        "import re\n",
        "import nltk\n",
        "from bs4 import BeautifulSoup"
      ],
      "execution_count": 5,
      "outputs": []
    },
    {
      "cell_type": "code",
      "metadata": {
        "id": "-FJzlvB6cGNM",
        "colab_type": "code",
        "colab": {
          "base_uri": "https://localhost:8080/",
          "height": 68
        },
        "outputId": "eaadebd1-c673-43d9-a803-1cd4807f6e76"
      },
      "source": [
        "nltk.download('stopwords')"
      ],
      "execution_count": 6,
      "outputs": [
        {
          "output_type": "stream",
          "text": [
            "[nltk_data] Downloading package stopwords to /root/nltk_data...\n",
            "[nltk_data]   Unzipping corpora/stopwords.zip.\n"
          ],
          "name": "stdout"
        },
        {
          "output_type": "execute_result",
          "data": {
            "text/plain": [
              "True"
            ]
          },
          "metadata": {
            "tags": []
          },
          "execution_count": 6
        }
      ]
    },
    {
      "cell_type": "code",
      "metadata": {
        "id": "9NWHbXJop_QX",
        "colab_type": "code",
        "colab": {}
      },
      "source": [
        "imdb = pd.read_csv('/content/drive/My Drive/NLP/IMDB Dataset.csv')"
      ],
      "execution_count": 9,
      "outputs": []
    },
    {
      "cell_type": "markdown",
      "metadata": {
        "id": "pQ-PkuOscIm3",
        "colab_type": "text"
      },
      "source": [
        "# Pre Processing"
      ]
    },
    {
      "cell_type": "code",
      "metadata": {
        "id": "MeWBgMRicSTg",
        "colab_type": "code",
        "colab": {}
      },
      "source": [
        "spc_en = spacy.load('en')\n",
        "\n",
        "def pre_processing(text):\n",
        "\n",
        "  # remove all html tags\n",
        "  soup = BeautifulSoup(text)\n",
        "  string =  soup.get_text()\n",
        "  \n",
        "  # convert uppercase into lowercase \n",
        "  string_lower = string.lower()\n",
        "  \n",
        "  # remove evererything is not letters\n",
        "  list_only_letters = re.findall(r'[a-z]+', string_lower)\n",
        "\n",
        "  # set english stopwords\n",
        "  stopwords = nltk.corpus.stopwords.words('english')\n",
        "  stop = set(stopwords)\n",
        "\n",
        "  # remove stopwords\n",
        "  list_meaningful_words = [word for word in list_only_letters \\\n",
        "                          if word not in stopwords]\n",
        "  # join list strings on space\n",
        "  string_meaninful_words = \" \".join(list_meaningful_words)\n",
        "\n",
        "  # innitializing spacy object\n",
        "  spc_letters = spc_en(string_meaninful_words)\n",
        "\n",
        "  # lemminization\n",
        "  tokens = [token.lemma_ if token.pos_ == 'VERB' else str(token) \\\n",
        "            for token in spc_letters]\n",
        "\n",
        "  return \" \".join(tokens)"
      ],
      "execution_count": 7,
      "outputs": []
    },
    {
      "cell_type": "code",
      "metadata": {
        "id": "L62huuEncWRz",
        "colab_type": "code",
        "colab": {
          "base_uri": "https://localhost:8080/",
          "height": 51
        },
        "outputId": "16534daf-67b6-4cb0-dde8-d65b6275e777"
      },
      "source": [
        "%%time\n",
        "\n",
        "imdb['review_cleaned'] = imdb['review'].apply(pre_processing)"
      ],
      "execution_count": 10,
      "outputs": [
        {
          "output_type": "stream",
          "text": [
            "CPU times: user 22min 35s, sys: 9.58 s, total: 22min 45s\n",
            "Wall time: 22min 47s\n"
          ],
          "name": "stdout"
        }
      ]
    },
    {
      "cell_type": "markdown",
      "metadata": {
        "id": "R4SQQlTlmMbv",
        "colab_type": "text"
      },
      "source": [
        "# Bigramas"
      ]
    },
    {
      "cell_type": "code",
      "metadata": {
        "id": "WoD9XYYdmNZG",
        "colab_type": "code",
        "colab": {}
      },
      "source": [
        "from gensim.models.phrases import Phrases, Phraser"
      ],
      "execution_count": 1,
      "outputs": []
    },
    {
      "cell_type": "code",
      "metadata": {
        "id": "CF4XVNsNm1Qz",
        "colab_type": "code",
        "colab": {}
      },
      "source": [
        "sent = [row.split() for row in imdb['review_cleaned']]"
      ],
      "execution_count": 46,
      "outputs": []
    },
    {
      "cell_type": "code",
      "metadata": {
        "id": "CYMiCCsEm-5I",
        "colab_type": "code",
        "colab": {
          "base_uri": "https://localhost:8080/",
          "height": 51
        },
        "outputId": "70d8710b-78a4-4bee-d136-62a89a7f1862"
      },
      "source": [
        "%%time\n",
        "\n",
        "phrases = Phrases(sent, min_count=30, progress_per=10000)\n",
        "bigram = Phraser(phrases)"
      ],
      "execution_count": 48,
      "outputs": [
        {
          "output_type": "stream",
          "text": [
            "CPU times: user 40.7 s, sys: 407 ms, total: 41.1 s\n",
            "Wall time: 41.1 s\n"
          ],
          "name": "stdout"
        }
      ]
    },
    {
      "cell_type": "code",
      "metadata": {
        "id": "Y80rYwfqnUd9",
        "colab_type": "code",
        "colab": {}
      },
      "source": [
        "sentences = bigram[sent]"
      ],
      "execution_count": 49,
      "outputs": []
    },
    {
      "cell_type": "markdown",
      "metadata": {
        "id": "J2MNMuQWnYCo",
        "colab_type": "text"
      },
      "source": [
        "# Word 2 Vector"
      ]
    },
    {
      "cell_type": "code",
      "metadata": {
        "id": "XVl_AZKjnWy2",
        "colab_type": "code",
        "colab": {
          "base_uri": "https://localhost:8080/",
          "height": 71
        },
        "outputId": "0ba10f25-7833-40bb-c706-9d7b7c08e72a"
      },
      "source": [
        "import multiprocessing\n",
        "\n",
        "from gensim.models import Word2Vec"
      ],
      "execution_count": 3,
      "outputs": [
        {
          "output_type": "stream",
          "text": [
            "The slowest run took 20.48 times longer than the fastest. This could mean that an intermediate result is being cached.\n",
            "1000000 loops, best of 3: 730 ns per loop\n"
          ],
          "name": "stdout"
        }
      ]
    },
    {
      "cell_type": "code",
      "metadata": {
        "id": "QUcE3eJJoQEU",
        "colab_type": "code",
        "colab": {}
      },
      "source": [
        "w2v_model = Word2Vec(min_count=2, size=80, window=2)"
      ],
      "execution_count": 50,
      "outputs": []
    },
    {
      "cell_type": "code",
      "metadata": {
        "id": "z7HICqCdoYWf",
        "colab_type": "code",
        "colab": {
          "base_uri": "https://localhost:8080/",
          "height": 51
        },
        "outputId": "db8c721c-7ef4-44eb-bc7d-eea3aaa91b55"
      },
      "source": [
        "%%time\n",
        "\n",
        "w2v_model.build_vocab(sentences, progress_per=10000) "
      ],
      "execution_count": 51,
      "outputs": [
        {
          "output_type": "stream",
          "text": [
            "CPU times: user 29.5 s, sys: 131 ms, total: 29.6 s\n",
            "Wall time: 29.6 s\n"
          ],
          "name": "stdout"
        }
      ]
    },
    {
      "cell_type": "code",
      "metadata": {
        "id": "8Ttmbe2OpW38",
        "colab_type": "code",
        "colab": {
          "base_uri": "https://localhost:8080/",
          "height": 68
        },
        "outputId": "a2cf0c45-a52d-4209-930c-4e33cd0adbbf"
      },
      "source": [
        "%%time\n",
        "\n",
        "w2v_model.train(sentences, \n",
        "                total_examples=w2v_model.corpus_count, \n",
        "                epochs=20, \n",
        "                report_delay=1)"
      ],
      "execution_count": 52,
      "outputs": [
        {
          "output_type": "stream",
          "text": [
            "CPU times: user 14min 39s, sys: 2.98 s, total: 14min 42s\n",
            "Wall time: 9min 16s\n"
          ],
          "name": "stdout"
        },
        {
          "output_type": "execute_result",
          "data": {
            "text/plain": [
              "(105702873, 112657480)"
            ]
          },
          "metadata": {
            "tags": []
          },
          "execution_count": 52
        }
      ]
    }
  ]
}